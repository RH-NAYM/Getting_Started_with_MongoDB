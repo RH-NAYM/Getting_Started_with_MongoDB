{
 "cells": [
  {
   "cell_type": "markdown",
   "metadata": {},
   "source": [
    "# Connect and Show database"
   ]
  },
  {
   "cell_type": "code",
   "execution_count": 1,
   "metadata": {},
   "outputs": [
    {
     "name": "stdout",
     "output_type": "stream",
     "text": [
      "['admin', 'config', 'demo', 'local']\n"
     ]
    }
   ],
   "source": [
    "from pymongo import MongoClient\n",
    "democlient = MongoClient()\n",
    "myclient = MongoClient('localhost',27017)\n",
    "print(myclient.list_database_names())\n",
    "\n"
   ]
  },
  {
   "cell_type": "markdown",
   "metadata": {},
   "source": [
    "# Creating DB, Collections and adding data"
   ]
  },
  {
   "cell_type": "code",
   "execution_count": 2,
   "metadata": {},
   "outputs": [
    {
     "name": "stdout",
     "output_type": "stream",
     "text": [
      "The database exist.\n",
      "['admin', 'config', 'demo', 'local']\n"
     ]
    }
   ],
   "source": [
    "from pymongo import MongoClient\n",
    "democlient = MongoClient()\n",
    "myclient = MongoClient(\"localhost\",27017)\n",
    "mydb = myclient[\"demo\"]     # DB name\n",
    "mycoll = mydb[\"dbtable\"]    # Collection name\n",
    "mylist = [\n",
    "  { \"id\": 1, \"name\": \"John\", \"address\": \"Highway 37\"},\n",
    "  { \"id\": 2, \"name\": \"Peter\", \"address\": \"Lowstreet 27\"},\n",
    "  { \"id\": 3, \"name\": \"Amy\", \"address\": \"Apple st 652\"},\n",
    "  { \"id\": 4, \"name\": \"Hannah\", \"address\": \"Mountain 21\"},\n",
    "  { \"id\": 5, \"name\": \"Michael\", \"address\": \"Valley 345\"},\n",
    "  { \"id\": 6, \"name\": \"Sandy\", \"address\": \"Ocean blvd 2\"},\n",
    "  { \"id\": 7, \"name\": \"Betty\", \"address\": \"Green Grass 1\"},\n",
    "  { \"id\": 8, \"name\": \"Richard\", \"address\": \"Sky st 331\"},\n",
    "  { \"id\": 9, \"name\": \"Susan\", \"address\": \"One way 98\"},\n",
    "  { \"id\": 10, \"name\": \"Vicky\", \"address\": \"Yellow Garden 2\"},\n",
    "  { \"id\": 11, \"name\": \"Ben\", \"address\": \"Park Lane 38\"},\n",
    "  { \"id\": 12, \"name\": \"William\", \"address\": \"Central st 954\"},\n",
    "  { \"id\": 13, \"name\": \"Chuck\", \"address\": \"Main Road 989\"},\n",
    "  { \"id\": 14, \"name\": \"Viola\", \"address\": \"Sideway 1633\"}\n",
    "]\n",
    "x = mycoll.insert_many(mylist)\n",
    "dblist = myclient.list_database_names()\n",
    "if \"demo\" in dblist:\n",
    "    print(\"The database exist.\")\n",
    "else:\n",
    "    print(\"Not present\")\n",
    "print(dblist)"
   ]
  },
  {
   "cell_type": "markdown",
   "metadata": {},
   "source": [
    "# Find Data from MongoDB"
   ]
  },
  {
   "cell_type": "code",
   "execution_count": 3,
   "metadata": {},
   "outputs": [
    {
     "name": "stdout",
     "output_type": "stream",
     "text": [
      "{'_id': ObjectId('6527a65c4524af8846733187'), 'id': 1, 'name': 'John', 'address': 'Highway 37'}\n",
      "{'_id': ObjectId('6527a65c4524af8846733187'), 'id': 1, 'name': 'John', 'address': 'Highway 37'}\n",
      "{'_id': ObjectId('6527a65c4524af8846733188'), 'id': 2, 'name': 'Peter', 'address': 'Lowstreet 27'}\n",
      "{'_id': ObjectId('6527a65c4524af8846733189'), 'id': 3, 'name': 'Amy', 'address': 'Apple st 652'}\n",
      "{'_id': ObjectId('6527a65c4524af884673318a'), 'id': 4, 'name': 'Hannah', 'address': 'Mountain 21'}\n",
      "{'_id': ObjectId('6527a65c4524af884673318b'), 'id': 5, 'name': 'Michael', 'address': 'Valley 345'}\n",
      "{'_id': ObjectId('6527a65c4524af884673318c'), 'id': 6, 'name': 'Sandy', 'address': 'Ocean blvd 2'}\n",
      "{'_id': ObjectId('6527a65c4524af884673318d'), 'id': 7, 'name': 'Betty', 'address': 'Green Grass 1'}\n",
      "{'_id': ObjectId('6527a65c4524af884673318e'), 'id': 8, 'name': 'Richard', 'address': 'Sky st 331'}\n",
      "{'_id': ObjectId('6527a65c4524af884673318f'), 'id': 9, 'name': 'Susan', 'address': 'One way 98'}\n",
      "{'_id': ObjectId('6527a65c4524af8846733190'), 'id': 10, 'name': 'Vicky', 'address': 'Yellow Garden 2'}\n",
      "{'_id': ObjectId('6527a65c4524af8846733191'), 'id': 11, 'name': 'Ben', 'address': 'Park Lane 38'}\n",
      "{'_id': ObjectId('6527a65c4524af8846733192'), 'id': 12, 'name': 'William', 'address': 'Central st 954'}\n",
      "{'_id': ObjectId('6527a65c4524af8846733193'), 'id': 13, 'name': 'Chuck', 'address': 'Main Road 989'}\n",
      "{'_id': ObjectId('6527a65c4524af8846733194'), 'id': 14, 'name': 'Viola', 'address': 'Sideway 1633'}\n",
      "{'_id': ObjectId('6527ab1b4524af8846733197'), 'id': 1, 'name': 'John', 'address': 'Highway 37'}\n",
      "{'_id': ObjectId('6527ab1b4524af8846733198'), 'id': 2, 'name': 'Peter', 'address': 'Lowstreet 27'}\n",
      "{'_id': ObjectId('6527ab1b4524af8846733199'), 'id': 3, 'name': 'Amy', 'address': 'Apple st 652'}\n",
      "{'_id': ObjectId('6527ab1b4524af884673319a'), 'id': 4, 'name': 'Hannah', 'address': 'Mountain 21'}\n",
      "{'_id': ObjectId('6527ab1b4524af884673319b'), 'id': 5, 'name': 'Michael', 'address': 'Valley 345'}\n",
      "{'_id': ObjectId('6527ab1b4524af884673319c'), 'id': 6, 'name': 'Sandy', 'address': 'Ocean blvd 2'}\n",
      "{'_id': ObjectId('6527ab1b4524af884673319d'), 'id': 7, 'name': 'Betty', 'address': 'Green Grass 1'}\n",
      "{'_id': ObjectId('6527ab1b4524af884673319e'), 'id': 8, 'name': 'Richard', 'address': 'Sky st 331'}\n",
      "{'_id': ObjectId('6527ab1b4524af884673319f'), 'id': 9, 'name': 'Susan', 'address': 'One way 98'}\n",
      "{'_id': ObjectId('6527ab1b4524af88467331a0'), 'id': 10, 'name': 'Vicky', 'address': 'Yellow Garden 2'}\n",
      "{'_id': ObjectId('6527ab1b4524af88467331a1'), 'id': 11, 'name': 'Ben', 'address': 'Park Lane 38'}\n",
      "{'_id': ObjectId('6527ab1b4524af88467331a2'), 'id': 12, 'name': 'William', 'address': 'Central st 954'}\n",
      "{'_id': ObjectId('6527ab1b4524af88467331a3'), 'id': 13, 'name': 'Chuck', 'address': 'Main Road 989'}\n",
      "{'_id': ObjectId('6527ab1b4524af88467331a4'), 'id': 14, 'name': 'Viola', 'address': 'Sideway 1633'}\n",
      "{'_id': ObjectId('6527ac224524af88467331a9'), 'id': 1, 'name': 'John', 'address': 'Highway 37'}\n",
      "{'_id': ObjectId('6527ac224524af88467331aa'), 'id': 2, 'name': 'Peter', 'address': 'Lowstreet 27'}\n",
      "{'_id': ObjectId('6527ac224524af88467331ab'), 'id': 3, 'name': 'Amy', 'address': 'Apple st 652'}\n",
      "{'_id': ObjectId('6527ac224524af88467331ac'), 'id': 4, 'name': 'Hannah', 'address': 'Mountain 21'}\n",
      "{'_id': ObjectId('6527ac224524af88467331ad'), 'id': 5, 'name': 'Michael', 'address': 'Valley 345'}\n",
      "{'_id': ObjectId('6527ac224524af88467331ae'), 'id': 6, 'name': 'Sandy', 'address': 'Ocean blvd 2'}\n",
      "{'_id': ObjectId('6527ac224524af88467331af'), 'id': 7, 'name': 'Betty', 'address': 'Green Grass 1'}\n",
      "{'_id': ObjectId('6527ac224524af88467331b0'), 'id': 8, 'name': 'Richard', 'address': 'Sky st 331'}\n",
      "{'_id': ObjectId('6527ac224524af88467331b1'), 'id': 9, 'name': 'Susan', 'address': 'One way 98'}\n",
      "{'_id': ObjectId('6527ac224524af88467331b2'), 'id': 10, 'name': 'Vicky', 'address': 'Yellow Garden 2'}\n",
      "{'_id': ObjectId('6527ac224524af88467331b3'), 'id': 11, 'name': 'Ben', 'address': 'Park Lane 38'}\n",
      "{'_id': ObjectId('6527ac224524af88467331b4'), 'id': 12, 'name': 'William', 'address': 'Central st 954'}\n",
      "{'_id': ObjectId('6527ac224524af88467331b5'), 'id': 13, 'name': 'Chuck', 'address': 'Main Road 989'}\n",
      "{'_id': ObjectId('6527ac224524af88467331b6'), 'id': 14, 'name': 'Viola', 'address': 'Sideway 1633'}\n",
      "{'_id': ObjectId('6527ac4a4524af88467331b9'), 'id': 1, 'name': 'John', 'address': 'Highway 37'}\n",
      "{'_id': ObjectId('6527ac4a4524af88467331ba'), 'id': 2, 'name': 'Peter', 'address': 'Lowstreet 27'}\n",
      "{'_id': ObjectId('6527ac4a4524af88467331bb'), 'id': 3, 'name': 'Amy', 'address': 'Apple st 652'}\n",
      "{'_id': ObjectId('6527ac4a4524af88467331bc'), 'id': 4, 'name': 'Hannah', 'address': 'Mountain 21'}\n",
      "{'_id': ObjectId('6527ac4a4524af88467331bd'), 'id': 5, 'name': 'Michael', 'address': 'Valley 345'}\n",
      "{'_id': ObjectId('6527ac4a4524af88467331be'), 'id': 6, 'name': 'Sandy', 'address': 'Ocean blvd 2'}\n",
      "{'_id': ObjectId('6527ac4a4524af88467331bf'), 'id': 7, 'name': 'Betty', 'address': 'Green Grass 1'}\n",
      "{'_id': ObjectId('6527ac4a4524af88467331c0'), 'id': 8, 'name': 'Richard', 'address': 'Sky st 331'}\n",
      "{'_id': ObjectId('6527ac4a4524af88467331c1'), 'id': 9, 'name': 'Susan', 'address': 'One way 98'}\n",
      "{'_id': ObjectId('6527ac4a4524af88467331c2'), 'id': 10, 'name': 'Vicky', 'address': 'Yellow Garden 2'}\n",
      "{'_id': ObjectId('6527ac4a4524af88467331c3'), 'id': 11, 'name': 'Ben', 'address': 'Park Lane 38'}\n",
      "{'_id': ObjectId('6527ac4a4524af88467331c4'), 'id': 12, 'name': 'William', 'address': 'Central st 954'}\n",
      "{'_id': ObjectId('6527ac4a4524af88467331c5'), 'id': 13, 'name': 'Chuck', 'address': 'Main Road 989'}\n",
      "{'_id': ObjectId('6527ac4a4524af88467331c6'), 'id': 14, 'name': 'Viola', 'address': 'Sideway 1633'}\n",
      "{'_id': ObjectId('6527ac584524af88467331c9'), 'id': 1, 'name': 'John', 'address': 'Highway 37'}\n",
      "{'_id': ObjectId('6527ac584524af88467331ca'), 'id': 2, 'name': 'Peter', 'address': 'Lowstreet 27'}\n",
      "{'_id': ObjectId('6527ac584524af88467331cb'), 'id': 3, 'name': 'Amy', 'address': 'Apple st 652'}\n",
      "{'_id': ObjectId('6527ac584524af88467331cc'), 'id': 4, 'name': 'Hannah', 'address': 'Mountain 21'}\n",
      "{'_id': ObjectId('6527ac584524af88467331cd'), 'id': 5, 'name': 'Michael', 'address': 'Valley 345'}\n",
      "{'_id': ObjectId('6527ac584524af88467331ce'), 'id': 6, 'name': 'Sandy', 'address': 'Ocean blvd 2'}\n",
      "{'_id': ObjectId('6527ac584524af88467331cf'), 'id': 7, 'name': 'Betty', 'address': 'Green Grass 1'}\n",
      "{'_id': ObjectId('6527ac584524af88467331d0'), 'id': 8, 'name': 'Richard', 'address': 'Sky st 331'}\n",
      "{'_id': ObjectId('6527ac584524af88467331d1'), 'id': 9, 'name': 'Susan', 'address': 'One way 98'}\n",
      "{'_id': ObjectId('6527ac584524af88467331d2'), 'id': 10, 'name': 'Vicky', 'address': 'Yellow Garden 2'}\n",
      "{'_id': ObjectId('6527ac584524af88467331d3'), 'id': 11, 'name': 'Ben', 'address': 'Park Lane 38'}\n",
      "{'_id': ObjectId('6527ac584524af88467331d4'), 'id': 12, 'name': 'William', 'address': 'Central st 954'}\n",
      "{'_id': ObjectId('6527ac584524af88467331d5'), 'id': 13, 'name': 'Chuck', 'address': 'Main Road 989'}\n",
      "{'_id': ObjectId('6527ac584524af88467331d6'), 'id': 14, 'name': 'Viola', 'address': 'Sideway 1633'}\n",
      "{'_id': ObjectId('6527ca606cf1f3abd60c619f'), 'id': 1, 'name': 'John', 'address': 'Highway 37'}\n",
      "{'_id': ObjectId('6527ca606cf1f3abd60c61a0'), 'id': 2, 'name': 'Peter', 'address': 'Lowstreet 27'}\n",
      "{'_id': ObjectId('6527ca606cf1f3abd60c61a1'), 'id': 3, 'name': 'Amy', 'address': 'Apple st 652'}\n",
      "{'_id': ObjectId('6527ca606cf1f3abd60c61a2'), 'id': 4, 'name': 'Hannah', 'address': 'Mountain 21'}\n",
      "{'_id': ObjectId('6527ca606cf1f3abd60c61a3'), 'id': 5, 'name': 'Michael', 'address': 'Valley 345'}\n",
      "{'_id': ObjectId('6527ca606cf1f3abd60c61a4'), 'id': 6, 'name': 'Sandy', 'address': 'Ocean blvd 2'}\n",
      "{'_id': ObjectId('6527ca606cf1f3abd60c61a5'), 'id': 7, 'name': 'Betty', 'address': 'Green Grass 1'}\n",
      "{'_id': ObjectId('6527ca606cf1f3abd60c61a6'), 'id': 8, 'name': 'Richard', 'address': 'Sky st 331'}\n",
      "{'_id': ObjectId('6527ca606cf1f3abd60c61a7'), 'id': 9, 'name': 'Susan', 'address': 'One way 98'}\n",
      "{'_id': ObjectId('6527ca606cf1f3abd60c61a8'), 'id': 10, 'name': 'Vicky', 'address': 'Yellow Garden 2'}\n",
      "{'_id': ObjectId('6527ca606cf1f3abd60c61a9'), 'id': 11, 'name': 'Ben', 'address': 'Park Lane 38'}\n",
      "{'_id': ObjectId('6527ca606cf1f3abd60c61aa'), 'id': 12, 'name': 'William', 'address': 'Central st 954'}\n",
      "{'_id': ObjectId('6527ca606cf1f3abd60c61ab'), 'id': 13, 'name': 'Chuck', 'address': 'Main Road 989'}\n",
      "{'_id': ObjectId('6527ca606cf1f3abd60c61ac'), 'id': 14, 'name': 'Viola', 'address': 'Sideway 1633'}\n"
     ]
    }
   ],
   "source": [
    "from pymongo import MongoClient\n",
    "democlient = MongoClient()\n",
    "mydb = myclient[\"demo\"]\n",
    "mycoll = mydb[\"dbtable\"]\n",
    "x = mycoll.find_one()\n",
    "print(x)\n",
    "for item in mycoll.find():\n",
    "    print(item)"
   ]
  },
  {
   "cell_type": "markdown",
   "metadata": {},
   "source": [
    "# Finding Data"
   ]
  },
  {
   "cell_type": "code",
   "execution_count": 4,
   "metadata": {},
   "outputs": [
    {
     "name": "stdout",
     "output_type": "stream",
     "text": [
      "{'_id': ObjectId('6527a65c4524af884673318d'), 'id': 7, 'name': 'Betty', 'address': 'Green Grass 1'}\n",
      "{'_id': ObjectId('6527a65c4524af8846733191'), 'id': 11, 'name': 'Ben', 'address': 'Park Lane 38'}\n",
      "{'_id': ObjectId('6527ab1b4524af884673319d'), 'id': 7, 'name': 'Betty', 'address': 'Green Grass 1'}\n",
      "{'_id': ObjectId('6527ab1b4524af88467331a1'), 'id': 11, 'name': 'Ben', 'address': 'Park Lane 38'}\n",
      "{'_id': ObjectId('6527ac224524af88467331af'), 'id': 7, 'name': 'Betty', 'address': 'Green Grass 1'}\n",
      "{'_id': ObjectId('6527ac224524af88467331b3'), 'id': 11, 'name': 'Ben', 'address': 'Park Lane 38'}\n",
      "{'_id': ObjectId('6527ac4a4524af88467331bf'), 'id': 7, 'name': 'Betty', 'address': 'Green Grass 1'}\n",
      "{'_id': ObjectId('6527ac4a4524af88467331c3'), 'id': 11, 'name': 'Ben', 'address': 'Park Lane 38'}\n",
      "{'_id': ObjectId('6527ac584524af88467331cf'), 'id': 7, 'name': 'Betty', 'address': 'Green Grass 1'}\n",
      "{'_id': ObjectId('6527ac584524af88467331d3'), 'id': 11, 'name': 'Ben', 'address': 'Park Lane 38'}\n",
      "{'_id': ObjectId('6527ca606cf1f3abd60c61a5'), 'id': 7, 'name': 'Betty', 'address': 'Green Grass 1'}\n",
      "{'_id': ObjectId('6527ca606cf1f3abd60c61a9'), 'id': 11, 'name': 'Ben', 'address': 'Park Lane 38'}\n"
     ]
    }
   ],
   "source": [
    "from pymongo import MongoClient\n",
    "democlient = MongoClient()\n",
    "myclient = MongoClient(\"localhost\",27017)\n",
    "mydb = myclient[\"demo\"]\n",
    "mycoll = mydb[\"dbtable\"]\n",
    "# query = {\"name\":\"John\"}\n",
    "myquery = {\"name\":{\"$regex\":\"^B\"}}\n",
    "mydoc = mycoll.find(myquery)\n",
    "for item in mydoc:\n",
    "    print(item)"
   ]
  },
  {
   "cell_type": "markdown",
   "metadata": {},
   "source": [
    "# Data sorting "
   ]
  },
  {
   "cell_type": "code",
   "execution_count": 10,
   "metadata": {},
   "outputs": [
    {
     "name": "stdout",
     "output_type": "stream",
     "text": [
      "{'_id': ObjectId('6527a65c4524af8846733187'), 'id': 1, 'name': 'John', 'address': 'Highway 37'}\n",
      "{'_id': ObjectId('6527a65c4524af8846733188'), 'id': 2, 'name': 'Peter', 'address': 'Lowstreet 27'}\n",
      "{'_id': ObjectId('6527a65c4524af8846733189'), 'id': 3, 'name': 'Amy', 'address': 'Apple st 652'}\n",
      "{'_id': ObjectId('6527a65c4524af884673318a'), 'id': 4, 'name': 'Hannah', 'address': 'Mountain 21'}\n",
      "{'_id': ObjectId('6527a65c4524af884673318b'), 'id': 5, 'name': 'Michael', 'address': 'Valley 345'}\n",
      "{'_id': ObjectId('6527a65c4524af884673318c'), 'id': 6, 'name': 'Sandy', 'address': 'Ocean blvd 2'}\n",
      "{'_id': ObjectId('6527a65c4524af884673318d'), 'id': 7, 'name': 'Betty', 'address': 'Green Grass 1'}\n",
      "{'_id': ObjectId('6527a65c4524af884673318e'), 'id': 8, 'name': 'Richard', 'address': 'Sky st 331'}\n",
      "{'_id': ObjectId('6527a65c4524af884673318f'), 'id': 9, 'name': 'Susan', 'address': 'One way 98'}\n",
      "{'_id': ObjectId('6527a65c4524af8846733190'), 'id': 10, 'name': 'Vicky', 'address': 'Yellow Garden 2'}\n",
      "{'_id': ObjectId('6527a65c4524af8846733191'), 'id': 11, 'name': 'Ben', 'address': 'Park Lane 38'}\n",
      "{'_id': ObjectId('6527a65c4524af8846733192'), 'id': 12, 'name': 'William', 'address': 'Central st 954'}\n",
      "{'_id': ObjectId('6527a65c4524af8846733193'), 'id': 13, 'name': 'Chuck', 'address': 'Main Road 989'}\n",
      "{'_id': ObjectId('6527a65c4524af8846733194'), 'id': 14, 'name': 'Viola', 'address': 'Sideway 1633'}\n",
      "{'_id': ObjectId('6527ab1b4524af8846733197'), 'id': 1, 'name': 'John', 'address': 'Highway 37'}\n",
      "{'_id': ObjectId('6527ab1b4524af8846733198'), 'id': 2, 'name': 'Peter', 'address': 'Lowstreet 27'}\n",
      "{'_id': ObjectId('6527ab1b4524af8846733199'), 'id': 3, 'name': 'Amy', 'address': 'Apple st 652'}\n",
      "{'_id': ObjectId('6527ab1b4524af884673319a'), 'id': 4, 'name': 'Hannah', 'address': 'Mountain 21'}\n",
      "{'_id': ObjectId('6527ab1b4524af884673319b'), 'id': 5, 'name': 'Michael', 'address': 'Valley 345'}\n",
      "{'_id': ObjectId('6527ab1b4524af884673319c'), 'id': 6, 'name': 'Sandy', 'address': 'Ocean blvd 2'}\n",
      "{'_id': ObjectId('6527ab1b4524af884673319d'), 'id': 7, 'name': 'Betty', 'address': 'Green Grass 1'}\n",
      "{'_id': ObjectId('6527ab1b4524af884673319e'), 'id': 8, 'name': 'Richard', 'address': 'Sky st 331'}\n",
      "{'_id': ObjectId('6527ab1b4524af884673319f'), 'id': 9, 'name': 'Susan', 'address': 'One way 98'}\n",
      "{'_id': ObjectId('6527ab1b4524af88467331a0'), 'id': 10, 'name': 'Vicky', 'address': 'Yellow Garden 2'}\n",
      "{'_id': ObjectId('6527ab1b4524af88467331a1'), 'id': 11, 'name': 'Ben', 'address': 'Park Lane 38'}\n",
      "{'_id': ObjectId('6527ab1b4524af88467331a2'), 'id': 12, 'name': 'William', 'address': 'Central st 954'}\n",
      "{'_id': ObjectId('6527ab1b4524af88467331a3'), 'id': 13, 'name': 'Chuck', 'address': 'Main Road 989'}\n",
      "{'_id': ObjectId('6527ab1b4524af88467331a4'), 'id': 14, 'name': 'Viola', 'address': 'Sideway 1633'}\n",
      "{'_id': ObjectId('6527ac224524af88467331a9'), 'id': 1, 'name': 'John', 'address': 'Highway 37'}\n",
      "{'_id': ObjectId('6527ac224524af88467331aa'), 'id': 2, 'name': 'Peter', 'address': 'Lowstreet 27'}\n",
      "{'_id': ObjectId('6527ac224524af88467331ab'), 'id': 3, 'name': 'Amy', 'address': 'Apple st 652'}\n",
      "{'_id': ObjectId('6527ac224524af88467331ac'), 'id': 4, 'name': 'Hannah', 'address': 'Mountain 21'}\n",
      "{'_id': ObjectId('6527ac224524af88467331ad'), 'id': 5, 'name': 'Michael', 'address': 'Valley 345'}\n",
      "{'_id': ObjectId('6527ac224524af88467331ae'), 'id': 6, 'name': 'Sandy', 'address': 'Ocean blvd 2'}\n",
      "{'_id': ObjectId('6527ac224524af88467331af'), 'id': 7, 'name': 'Betty', 'address': 'Green Grass 1'}\n",
      "{'_id': ObjectId('6527ac224524af88467331b0'), 'id': 8, 'name': 'Richard', 'address': 'Sky st 331'}\n",
      "{'_id': ObjectId('6527ac224524af88467331b1'), 'id': 9, 'name': 'Susan', 'address': 'One way 98'}\n",
      "{'_id': ObjectId('6527ac224524af88467331b2'), 'id': 10, 'name': 'Vicky', 'address': 'Yellow Garden 2'}\n",
      "{'_id': ObjectId('6527ac224524af88467331b3'), 'id': 11, 'name': 'Ben', 'address': 'Park Lane 38'}\n",
      "{'_id': ObjectId('6527ac224524af88467331b4'), 'id': 12, 'name': 'William', 'address': 'Central st 954'}\n",
      "{'_id': ObjectId('6527ac224524af88467331b5'), 'id': 13, 'name': 'Chuck', 'address': 'Main Road 989'}\n",
      "{'_id': ObjectId('6527ac224524af88467331b6'), 'id': 14, 'name': 'Viola', 'address': 'Sideway 1633'}\n",
      "{'_id': ObjectId('6527ac4a4524af88467331b9'), 'id': 1, 'name': 'John', 'address': 'Highway 37'}\n",
      "{'_id': ObjectId('6527ac4a4524af88467331ba'), 'id': 2, 'name': 'Peter', 'address': 'Lowstreet 27'}\n",
      "{'_id': ObjectId('6527ac4a4524af88467331bb'), 'id': 3, 'name': 'Amy', 'address': 'Apple st 652'}\n",
      "{'_id': ObjectId('6527ac4a4524af88467331bc'), 'id': 4, 'name': 'Hannah', 'address': 'Mountain 21'}\n",
      "{'_id': ObjectId('6527ac4a4524af88467331bd'), 'id': 5, 'name': 'Michael', 'address': 'Valley 345'}\n",
      "{'_id': ObjectId('6527ac4a4524af88467331be'), 'id': 6, 'name': 'Sandy', 'address': 'Ocean blvd 2'}\n",
      "{'_id': ObjectId('6527ac4a4524af88467331bf'), 'id': 7, 'name': 'Betty', 'address': 'Green Grass 1'}\n",
      "{'_id': ObjectId('6527ac4a4524af88467331c0'), 'id': 8, 'name': 'Richard', 'address': 'Sky st 331'}\n",
      "{'_id': ObjectId('6527ac4a4524af88467331c1'), 'id': 9, 'name': 'Susan', 'address': 'One way 98'}\n",
      "{'_id': ObjectId('6527ac4a4524af88467331c2'), 'id': 10, 'name': 'Vicky', 'address': 'Yellow Garden 2'}\n",
      "{'_id': ObjectId('6527ac4a4524af88467331c3'), 'id': 11, 'name': 'Ben', 'address': 'Park Lane 38'}\n",
      "{'_id': ObjectId('6527ac4a4524af88467331c4'), 'id': 12, 'name': 'William', 'address': 'Central st 954'}\n",
      "{'_id': ObjectId('6527ac4a4524af88467331c5'), 'id': 13, 'name': 'Chuck', 'address': 'Main Road 989'}\n",
      "{'_id': ObjectId('6527ac4a4524af88467331c6'), 'id': 14, 'name': 'Viola', 'address': 'Sideway 1633'}\n",
      "{'_id': ObjectId('6527ac584524af88467331c9'), 'id': 1, 'name': 'John', 'address': 'Highway 37'}\n",
      "{'_id': ObjectId('6527ac584524af88467331ca'), 'id': 2, 'name': 'Peter', 'address': 'Lowstreet 27'}\n",
      "{'_id': ObjectId('6527ac584524af88467331cb'), 'id': 3, 'name': 'Amy', 'address': 'Apple st 652'}\n",
      "{'_id': ObjectId('6527ac584524af88467331cc'), 'id': 4, 'name': 'Hannah', 'address': 'Mountain 21'}\n",
      "{'_id': ObjectId('6527ac584524af88467331cd'), 'id': 5, 'name': 'Michael', 'address': 'Valley 345'}\n",
      "{'_id': ObjectId('6527ac584524af88467331ce'), 'id': 6, 'name': 'Sandy', 'address': 'Ocean blvd 2'}\n",
      "{'_id': ObjectId('6527ac584524af88467331cf'), 'id': 7, 'name': 'Betty', 'address': 'Green Grass 1'}\n",
      "{'_id': ObjectId('6527ac584524af88467331d0'), 'id': 8, 'name': 'Richard', 'address': 'Sky st 331'}\n",
      "{'_id': ObjectId('6527ac584524af88467331d1'), 'id': 9, 'name': 'Susan', 'address': 'One way 98'}\n",
      "{'_id': ObjectId('6527ac584524af88467331d2'), 'id': 10, 'name': 'Vicky', 'address': 'Yellow Garden 2'}\n",
      "{'_id': ObjectId('6527ac584524af88467331d3'), 'id': 11, 'name': 'Ben', 'address': 'Park Lane 38'}\n",
      "{'_id': ObjectId('6527ac584524af88467331d4'), 'id': 12, 'name': 'William', 'address': 'Central st 954'}\n",
      "{'_id': ObjectId('6527ac584524af88467331d5'), 'id': 13, 'name': 'Chuck', 'address': 'Main Road 989'}\n",
      "{'_id': ObjectId('6527ac584524af88467331d6'), 'id': 14, 'name': 'Viola', 'address': 'Sideway 1633'}\n",
      "{'_id': ObjectId('6527ca606cf1f3abd60c619f'), 'id': 1, 'name': 'John', 'address': 'Highway 37'}\n",
      "{'_id': ObjectId('6527ca606cf1f3abd60c61a0'), 'id': 2, 'name': 'Peter', 'address': 'Lowstreet 27'}\n",
      "{'_id': ObjectId('6527ca606cf1f3abd60c61a1'), 'id': 3, 'name': 'Amy', 'address': 'Apple st 652'}\n",
      "{'_id': ObjectId('6527ca606cf1f3abd60c61a2'), 'id': 4, 'name': 'Hannah', 'address': 'Mountain 21'}\n",
      "{'_id': ObjectId('6527ca606cf1f3abd60c61a3'), 'id': 5, 'name': 'Michael', 'address': 'Valley 345'}\n",
      "{'_id': ObjectId('6527ca606cf1f3abd60c61a4'), 'id': 6, 'name': 'Sandy', 'address': 'Ocean blvd 2'}\n",
      "{'_id': ObjectId('6527ca606cf1f3abd60c61a5'), 'id': 7, 'name': 'Betty', 'address': 'Green Grass 1'}\n",
      "{'_id': ObjectId('6527ca606cf1f3abd60c61a6'), 'id': 8, 'name': 'Richard', 'address': 'Sky st 331'}\n",
      "{'_id': ObjectId('6527ca606cf1f3abd60c61a7'), 'id': 9, 'name': 'Susan', 'address': 'One way 98'}\n",
      "{'_id': ObjectId('6527ca606cf1f3abd60c61a8'), 'id': 10, 'name': 'Vicky', 'address': 'Yellow Garden 2'}\n",
      "{'_id': ObjectId('6527ca606cf1f3abd60c61a9'), 'id': 11, 'name': 'Ben', 'address': 'Park Lane 38'}\n",
      "{'_id': ObjectId('6527ca606cf1f3abd60c61aa'), 'id': 12, 'name': 'William', 'address': 'Central st 954'}\n",
      "{'_id': ObjectId('6527ca606cf1f3abd60c61ab'), 'id': 13, 'name': 'Chuck', 'address': 'Main Road 989'}\n",
      "{'_id': ObjectId('6527ca606cf1f3abd60c61ac'), 'id': 14, 'name': 'Viola', 'address': 'Sideway 1633'}\n"
     ]
    }
   ],
   "source": [
    "from pymongo import MongoClient\n",
    "democlient = MongoClient()\n",
    "myclient = MongoClient(\"localhost\",27017)\n",
    "mydb = myclient[\"demo\"]\n",
    "mycoll = mydb[\"dbtable\"]\n",
    "mydoc = mycoll.find().sort(\"_id\",1)\n",
    "# mydoc = mycoll.find().sort(\"name\",-1)\n",
    "for item in mydoc:\n",
    "    print(item)\n"
   ]
  },
  {
   "cell_type": "code",
   "execution_count": null,
   "metadata": {},
   "outputs": [],
   "source": []
  }
 ],
 "metadata": {
  "kernelspec": {
   "display_name": "mongodb",
   "language": "python",
   "name": "python3"
  },
  "language_info": {
   "codemirror_mode": {
    "name": "ipython",
    "version": 3
   },
   "file_extension": ".py",
   "mimetype": "text/x-python",
   "name": "python",
   "nbconvert_exporter": "python",
   "pygments_lexer": "ipython3",
   "version": "3.12.0"
  }
 },
 "nbformat": 4,
 "nbformat_minor": 2
}
