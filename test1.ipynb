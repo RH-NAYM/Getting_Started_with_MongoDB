{
 "cells": [
  {
   "cell_type": "markdown",
   "metadata": {},
   "source": [
    "# Connect and Show database"
   ]
  },
  {
   "cell_type": "code",
   "execution_count": 3,
   "metadata": {},
   "outputs": [
    {
     "name": "stdout",
     "output_type": "stream",
     "text": [
      "['admin', 'config', 'local']\n"
     ]
    }
   ],
   "source": [
    "from pymongo import MongoClient\n",
    "democlient = MongoClient()\n",
    "myclient = MongoClient('localhost',27017)\n",
    "print(myclient.list_database_names())\n",
    "\n"
   ]
  },
  {
   "cell_type": "markdown",
   "metadata": {},
   "source": [
    "# Creating DB, Collections and adding data"
   ]
  },
  {
   "cell_type": "code",
   "execution_count": null,
   "metadata": {},
   "outputs": [],
   "source": [
    "# from pymongo import MongoClient                \n",
    "# democlient = MongoClient()\n",
    "# myclient = MongoClient('localhost',27017)\n",
    "# mydb = myclient[\"demo\"]\n",
    "# mycoll=mydb[\"dbtable\"]\n",
    "\n",
    "# mylist = [\n",
    "#   { \"id\": 1, \"name\": \"John\", \"address\": \"Highway 37\"},\n",
    "#   { \"id\": 2, \"name\": \"Peter\", \"address\": \"Lowstreet 27\"},\n",
    "#   { \"id\": 3, \"name\": \"Amy\", \"address\": \"Apple st 652\"},\n",
    "#   { \"id\": 4, \"name\": \"Hannah\", \"address\": \"Mountain 21\"},\n",
    "#   { \"id\": 5, \"name\": \"Michael\", \"address\": \"Valley 345\"},\n",
    "#   { \"id\": 6, \"name\": \"Sandy\", \"address\": \"Ocean blvd 2\"},\n",
    "#   { \"id\": 7, \"name\": \"Betty\", \"address\": \"Green Grass 1\"},\n",
    "#   { \"id\": 8, \"name\": \"Richard\", \"address\": \"Sky st 331\"},\n",
    "#   { \"id\": 9, \"name\": \"Susan\", \"address\": \"One way 98\"},\n",
    "#   { \"id\": 10, \"name\": \"Vicky\", \"address\": \"Yellow Garden 2\"},\n",
    "#   { \"id\": 11, \"name\": \"Ben\", \"address\": \"Park Lane 38\"},\n",
    "#   { \"id\": 12, \"name\": \"William\", \"address\": \"Central st 954\"},\n",
    "#   { \"id\": 13, \"name\": \"Chuck\", \"address\": \"Main Road 989\"},\n",
    "#   { \"id\": 14, \"name\": \"Viola\", \"address\": \"Sideway 1633\"}\n",
    "# ]\n",
    "\n",
    "# x = mycoll.insert_many(mylist)\n",
    "\n",
    "# dblist = myclient.list_database_names()\n",
    "# if input('Enter DB') in dblist:\n",
    "#     print(\"The database exists.\")\n",
    "# else:\n",
    "#     print(\"Not Present\")\n",
    "\n",
    "# print(dblist)"
   ]
  },
  {
   "cell_type": "code",
   "execution_count": null,
   "metadata": {},
   "outputs": [],
   "source": [
    "from pymongo import MongoClient\n",
    "democlient = MongoClient()\n",
    "myclient = MongoClient(\"localhost\",27017)\n",
    "mydb = myclient[\"demo\"]\n",
    "mycoll = mydb[\"dbtable\"]\n",
    "mylist = [\n",
    "  { \"id\": 1, \"name\": \"John\", \"address\": \"Highway 37\"},\n",
    "  { \"id\": 2, \"name\": \"Peter\", \"address\": \"Lowstreet 27\"},\n",
    "  { \"id\": 3, \"name\": \"Amy\", \"address\": \"Apple st 652\"},\n",
    "  { \"id\": 4, \"name\": \"Hannah\", \"address\": \"Mountain 21\"},\n",
    "  { \"id\": 5, \"name\": \"Michael\", \"address\": \"Valley 345\"},\n",
    "  { \"id\": 6, \"name\": \"Sandy\", \"address\": \"Ocean blvd 2\"},\n",
    "  { \"id\": 7, \"name\": \"Betty\", \"address\": \"Green Grass 1\"},\n",
    "  { \"id\": 8, \"name\": \"Richard\", \"address\": \"Sky st 331\"},\n",
    "  { \"id\": 9, \"name\": \"Susan\", \"address\": \"One way 98\"},\n",
    "  { \"id\": 10, \"name\": \"Vicky\", \"address\": \"Yellow Garden 2\"},\n",
    "  { \"id\": 11, \"name\": \"Ben\", \"address\": \"Park Lane 38\"},\n",
    "  { \"id\": 12, \"name\": \"William\", \"address\": \"Central st 954\"},\n",
    "  { \"id\": 13, \"name\": \"Chuck\", \"address\": \"Main Road 989\"},\n",
    "  { \"id\": 14, \"name\": \"Viola\", \"address\": \"Sideway 1633\"}\n",
    "]\n",
    "x = mycoll.insert_many(mylist)\n",
    "dblist = myclient.list_database_names()\n",
    "if input(\"Enter DB\") in dblist:\n",
    "    print(\"The database exist.\")\n",
    "else:\n",
    "    print(\"Not present\")\n",
    "print(dblist)\n",
    "\n",
    "\n",
    "\n",
    "\n",
    "\n",
    "\n",
    "\n"
   ]
  }
 ],
 "metadata": {
  "kernelspec": {
   "display_name": "mongodb",
   "language": "python",
   "name": "python3"
  },
  "language_info": {
   "codemirror_mode": {
    "name": "ipython",
    "version": 3
   },
   "file_extension": ".py",
   "mimetype": "text/x-python",
   "name": "python",
   "nbconvert_exporter": "python",
   "pygments_lexer": "ipython3",
   "version": "3.12.0"
  }
 },
 "nbformat": 4,
 "nbformat_minor": 2
}
